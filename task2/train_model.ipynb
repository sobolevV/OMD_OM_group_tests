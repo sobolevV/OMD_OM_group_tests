{
 "cells": [
  {
   "cell_type": "code",
   "execution_count": 19,
   "metadata": {},
   "outputs": [],
   "source": [
    "import torch\n",
    "import torch.nn as nn\n",
    "import torch.nn.functional as F\n",
    "import numpy as np\n",
    "import os\n",
    "import re\n",
    "import matplotlib.pyplot as plt\n",
    "\n",
    "from random import shuffle\n",
    "from PIL import Image\n",
    "from torch.utils.data import DataLoader, Dataset\n",
    "from glob import glob\n",
    "from torchvision import transforms"
   ]
  },
  {
   "cell_type": "code",
   "execution_count": 2,
   "metadata": {},
   "outputs": [],
   "source": [
    "data_path = \"D:\\\\car_logo\""
   ]
  },
  {
   "cell_type": "code",
   "execution_count": 25,
   "metadata": {},
   "outputs": [],
   "source": [
    "def get_images_paths(path):\n",
    "    \"\"\"Reads all images in 'path'. Returns (img_paths, img_classes), classes\"\"\"\n",
    "    extensions = ('*.jpg', '*.png', '*.jpeg')  # definw allowed extensions\n",
    "    classes = {}  # define dict to contain 'class-label' format \n",
    "    img_paths, img_classes = [], []\n",
    "    # get list of images for each extension\n",
    "    for ext in extensions:\n",
    "        img_paths.extend(glob(os.path.join(path, ext)))\n",
    "    \n",
    "    shuffle(img_paths)\n",
    "    \n",
    "    # set labels for each image\n",
    "    for img_pth in img_paths:\n",
    "        img_name = img_pth.split('\\\\')[-1]\n",
    "        class_name = re.match(r'\\D*', img_name.lower().replace(' ', '')).group()  # find words before any digits\n",
    "        # if it is new class\n",
    "        if class_name not in classes.keys():\n",
    "            classes[class_name] = float(len(classes))  # add this class and label\n",
    "        \n",
    "        img_classes.append(classes[class_name])\n",
    "    print(f'Found {len(img_paths)} images with {len(set(img_classes))} classes')\n",
    "    return (img_paths, img_classes), classes"
   ]
  },
  {
   "cell_type": "code",
   "execution_count": 26,
   "metadata": {},
   "outputs": [
    {
     "name": "stdout",
     "output_type": "stream",
     "text": [
      "Found 20778 images with 40 classes\n"
     ]
    }
   ],
   "source": [
    "data, classes = get_images_paths(data_path)"
   ]
  },
  {
   "cell_type": "code",
   "execution_count": 32,
   "metadata": {},
   "outputs": [
    {
     "data": {
      "text/plain": [
       "[('D:\\\\car_logo\\\\Fiat0858_small.jpg', 0.0),\n",
       " ('D:\\\\car_logo\\\\Saab3543_small.jpg', 1.0),\n",
       " ('D:\\\\car_logo\\\\Maserati13251_small.jpg', 2.0),\n",
       " ('D:\\\\car_logo\\\\Citroen14820_small.jpg', 3.0),\n",
       " ('D:\\\\car_logo\\\\Seat7567_small.jpg', 4.0),\n",
       " ('D:\\\\car_logo\\\\Dacia16463_small.jpg', 5.0),\n",
       " ('D:\\\\car_logo\\\\Fiat1073_small.jpg', 0.0),\n",
       " ('D:\\\\car_logo\\\\Tesla12188_small.jpg', 6.0),\n",
       " ('D:\\\\car_logo\\\\Jaguar14008_small.jpg', 7.0),\n",
       " ('D:\\\\car_logo\\\\Land Rover10289_small.jpg', 8.0),\n",
       " ('D:\\\\car_logo\\\\Lancia7908_small.jpg', 9.0),\n",
       " ('D:\\\\car_logo\\\\Honda1803_small.jpg', 10.0),\n",
       " ('D:\\\\car_logo\\\\Audi18169_small.jpg', 11.0),\n",
       " ('D:\\\\car_logo\\\\Tesla12023_small.jpg', 6.0),\n",
       " ('D:\\\\car_logo\\\\Porsche4955_small.jpg', 12.0)]"
      ]
     },
     "execution_count": 32,
     "metadata": {},
     "output_type": "execute_result"
    }
   ],
   "source": [
    "# some data examples\n",
    "list(zip(data[0][:15], data[1][:15]))"
   ]
  },
  {
   "cell_type": "code",
   "execution_count": 28,
   "metadata": {},
   "outputs": [],
   "source": [
    "# classes"
   ]
  },
  {
   "cell_type": "markdown",
   "metadata": {},
   "source": [
    "### Create pytorch iterable Dataset"
   ]
  },
  {
   "cell_type": "code",
   "execution_count": 33,
   "metadata": {},
   "outputs": [],
   "source": [
    "class ImageDataset(Dataset):\n",
    "    \n",
    "    \"\"\"Create pytorch iterable Dataset to generate images with X paths\n",
    "    params:\n",
    "        X[list] - list of paths for images\n",
    "        Y[list] - list of labels for X\n",
    "        img_size (int) - size of output images. Default 156\n",
    "        transform_compose (torchvision.transforms.Compose) - transforms for output images. \n",
    "            Default: transforms.Compose([transforms.Resize((img_size, img_size)), transforms.ToTensor(),])\n",
    "    \"\"\"\n",
    "    def __init__(self, X, Y, img_size=50, transform_compose=None):\n",
    "        self.files = X\n",
    "        self.classes = Y\n",
    "        self.size = img_size\n",
    "        self.transforms = transforms.Compose([transforms.Resize((img_size, img_size)), \n",
    "                                              transforms.ToTensor(),]) if transform_compose is None else transform_compose  \n",
    "    \n",
    "    def __len__(self):\n",
    "        return len(self.files)\n",
    "    \n",
    "    def __getitem__(self, key):\n",
    "        # get image by path with index=key\n",
    "        pillow_img = Image.open(self.files[key])\n",
    "        # apply transforms to image\n",
    "        x = self.transforms(pillow_img)\n",
    "        y = self.classes[key]\n",
    "        return x, y"
   ]
  },
  {
   "cell_type": "code",
   "execution_count": 74,
   "metadata": {},
   "outputs": [],
   "source": [
    "img_size = 50\n",
    "train_transforms = transforms.Compose([transforms.Resize((img_size, img_size)), transforms.RandomAffine((-10, 10)),  \n",
    "                                       transforms.RandomHorizontalFlip(), transforms.ToTensor(),\n",
    "                                       transforms.Normalize([0.485, 0.456, 0.406], [0.229, 0.224, 0.225])])  # transforms.RandomRotation((-10, 10), expand=False),\n",
    "valid_transforms = transforms.Compose([transforms.Resize((img_size, img_size)), transforms.ToTensor(),\n",
    "                                       transforms.Normalize([0.485, 0.456, 0.406], [0.229, 0.224, 0.225])])"
   ]
  },
  {
   "cell_type": "code",
   "execution_count": 37,
   "metadata": {},
   "outputs": [
    {
     "name": "stdout",
     "output_type": "stream",
     "text": [
      "Train size =  15583\n"
     ]
    }
   ],
   "source": [
    "train_size = int(len(data[0]) * 0.75)\n",
    "print('Train size = ', train_size)"
   ]
  },
  {
   "cell_type": "code",
   "execution_count": 38,
   "metadata": {},
   "outputs": [],
   "source": [
    "# split data - train and validation dataset\n",
    "train_x, train_y = data[0][:train_size], data[1][:train_size]\n",
    "valid_x, valid_y = data[0][train_size:], data[1][train_size:]"
   ]
  },
  {
   "cell_type": "markdown",
   "metadata": {},
   "source": [
    "### Define pytorch DataLoaders to train model"
   ]
  },
  {
   "cell_type": "code",
   "execution_count": 75,
   "metadata": {},
   "outputs": [],
   "source": [
    "# define train and validation Dataset\n",
    "train_ds = ImageDataset(train_x, train_y, transform_compose=train_transforms)\n",
    "valid_ds = ImageDataset(valid_x, valid_y, transform_compose=valid_transforms)\n",
    "\n",
    "# define DataLoaders\n",
    "train_dl = DataLoader(train_ds, batch_size=32, pin_memory=False)\n",
    "valid_dl = DataLoader(valid_ds, batch_size=1, pin_memory=False)"
   ]
  },
  {
   "cell_type": "markdown",
   "metadata": {},
   "source": [
    "## Create model"
   ]
  },
  {
   "cell_type": "code",
   "execution_count": 111,
   "metadata": {},
   "outputs": [],
   "source": [
    "class CNN_Net(nn.Module):\n",
    "    \n",
    "    def __init__(self, input_channels=3, output_size=1):\n",
    "        super(CNN_Net, self).__init__()\n",
    "        self.conv1 = nn.Conv2d(in_channels=input_channels, out_channels=16, kernel_size=3, padding=1)\n",
    "        self.conv2 = nn.Conv2d(in_channels=16, out_channels=32, kernel_size=3)\n",
    "        self.conv3 = nn.Conv2d(in_channels=32, out_channels=64, kernel_size=3)\n",
    "        self.conv4 = nn.Conv2d(in_channels=64, out_channels=128, kernel_size=2)\n",
    "        \n",
    "        self.fc1 = nn.Linear(128, 82)  # c4 shapes\n",
    "        self.fc2 = nn.Linear(82, 64)\n",
    "        self.out = nn.Linear(64, output_size)\n",
    "        \n",
    "        self.flatten_size = None\n",
    "    \n",
    "    def forward(self, x):\n",
    "        c1 = F.max_pool2d(F.relu(self.conv1(x)), (2, 2))\n",
    "        c2 = F.max_pool2d(F.relu(self.conv2(c1)), (2, 2))\n",
    "        c3 = F.max_pool2d(F.relu(self.conv3(c2)), (2, 2))\n",
    "        c4 = F.max_pool2d(F.relu(self.conv4(c3)), (2, 2))\n",
    "        \n",
    "        if self.flatten_size is None:\n",
    "            self.flatten_size = c4.shape[1] * c4.shape[2] * c4.shape[3]\n",
    "            \n",
    "        c4 = c4.view(-1, self.flatten_size)\n",
    "        f1 = F.relu(self.fc1(c4))\n",
    "        f2 = F.relu(self.fc2(f1))\n",
    "        out = self.out(f2)\n",
    "        return out"
   ]
  },
  {
   "cell_type": "code",
   "execution_count": 137,
   "metadata": {},
   "outputs": [],
   "source": [
    "model = CNN_Net(output_size=len(classes))\n",
    "model = model.cuda()"
   ]
  },
  {
   "cell_type": "code",
   "execution_count": 138,
   "metadata": {},
   "outputs": [],
   "source": [
    "optimizer = torch.optim.Adam(model.parameters(), lr=1e-3)\n",
    "loss_function = nn.CrossEntropyLoss()"
   ]
  },
  {
   "cell_type": "markdown",
   "metadata": {},
   "source": [
    "## Train model"
   ]
  },
  {
   "cell_type": "code",
   "execution_count": 132,
   "metadata": {},
   "outputs": [],
   "source": [
    "def accuracy(pred_tensor, target):\n",
    "    pred_classes = torch.argmax(pred_tensor, dim=1)\n",
    "    equal_classes = (pred_classes == target).float()\n",
    "    return torch.mean(equal_classes)"
   ]
  },
  {
   "cell_type": "code",
   "execution_count": 139,
   "metadata": {},
   "outputs": [],
   "source": [
    "def train(model, epochs, optimizer, loss_func, train_loader, valid_loader=None, train_frac=1.):\n",
    "    # create history for each epoch list for metrics\n",
    "    train_history = [[], []]\n",
    "    valid_history = [[], []]\n",
    "    for ep in range(epochs):\n",
    "        # history for current epoch\n",
    "        ep_train_loss, ep_train_acc = [], []\n",
    "        for i, (xb, yb) in enumerate(train_loader):\n",
    "            optimizer.zero_grad()\n",
    "            # pass to gpu\n",
    "            yb = yb.long().cuda()\n",
    "            # get predictions\n",
    "            preds = model(xb.cuda())\n",
    "            # calculate loss\n",
    "            loss = loss_func(preds, yb)\n",
    "            # backpropagation\n",
    "            loss.backward()\n",
    "            optimizer.step()\n",
    "            \n",
    "            # calculate metrics for batch\n",
    "            acc = accuracy(F.softmax(preds), yb).item()\n",
    "            ep_train_acc.append(acc)\n",
    "            ep_train_loss.append(loss.item())\n",
    "            \n",
    "            if i % 200 == 0:\n",
    "                print(f'Process {(i/(len(train_loader)*train_frac)):.3}%', \"Loss =\", round(loss.item(), 4))\n",
    "                \n",
    "            if i / len(train_loader) >= train_frac:\n",
    "                break\n",
    "            \n",
    "        # mean accuracy and loss for current epoch\n",
    "        train_history[0].append(np.array(ep_train_acc).mean())\n",
    "        train_history[1].append(np.array(ep_train_loss).mean())\n",
    "        \n",
    "        # get loss and accuracy for validation data\n",
    "        if valid_loader is not None:\n",
    "            eval_acc, eval_loss = [], []\n",
    "            for xb, yb in valid_loader:\n",
    "                yb = yb.long().cuda()\n",
    "                with torch.no_grad():\n",
    "                    preds = model(xb.cuda())\n",
    "                \n",
    "                eval_loss.append(loss_func(preds, yb).item())\n",
    "                eval_acc.append(accuracy(preds, yb).item())\n",
    "            # mean accuracy and loss for current epoch with validation data\n",
    "            valid_history[0].append(np.array(eval_acc).mean())\n",
    "            valid_history[1].append(np.array(eval_loss).mean())\n",
    "        \n",
    "        print(f'Epoch {ep}. acc:', round(np.array(ep_train_acc).mean(), 5), 'loss:', round(np.array(ep_train_loss).mean(), 5))\n",
    "    \n",
    "    return train_history, valid_history"
   ]
  },
  {
   "cell_type": "code",
   "execution_count": 140,
   "metadata": {},
   "outputs": [
    {
     "name": "stderr",
     "output_type": "stream",
     "text": [
      "<ipython-input-139-2d60a02e26f4>:21: UserWarning: Implicit dimension choice for softmax has been deprecated. Change the call to include dim=X as an argument.\n",
      "  acc = accuracy(F.softmax(preds), yb).item()\n"
     ]
    },
    {
     "name": "stdout",
     "output_type": "stream",
     "text": [
      "Process 0.0% Loss = 3.691\n",
      "Process 0.411% Loss = 3.5507\n",
      "Process 0.821% Loss = 3.3768\n",
      "Epoch 0. acc: 0.06392 loss: 3.52506\n",
      "Process 0.0% Loss = 3.5718\n",
      "Process 0.411% Loss = 2.8484\n",
      "Process 0.821% Loss = 2.8575\n",
      "Epoch 1. acc: 0.17539 loss: 3.05997\n",
      "Process 0.0% Loss = 2.771\n",
      "Process 0.411% Loss = 2.3492\n",
      "Process 0.821% Loss = 2.1913\n",
      "Epoch 2. acc: 0.32227 loss: 2.53135\n",
      "Process 0.0% Loss = 2.5363\n",
      "Process 0.411% Loss = 2.251\n",
      "Process 0.821% Loss = 1.6636\n",
      "Epoch 3. acc: 0.42796 loss: 2.18605\n",
      "Process 0.0% Loss = 2.4227\n",
      "Process 0.411% Loss = 2.1184\n",
      "Process 0.821% Loss = 1.4876\n",
      "Epoch 4. acc: 0.49772 loss: 1.94013\n",
      "Process 0.0% Loss = 2.5279\n",
      "Process 0.411% Loss = 1.8555\n",
      "Process 0.821% Loss = 1.3759\n",
      "Epoch 5. acc: 0.54469 loss: 1.75408\n",
      "Process 0.0% Loss = 2.3062\n",
      "Process 0.411% Loss = 1.8135\n",
      "Process 0.821% Loss = 1.4033\n",
      "Epoch 6. acc: 0.57536 loss: 1.63441\n",
      "Process 0.0% Loss = 2.2974\n",
      "Process 0.411% Loss = 1.6448\n",
      "Process 0.821% Loss = 1.4756\n",
      "Epoch 7. acc: 0.60174 loss: 1.53425\n",
      "Process 0.0% Loss = 2.0749\n",
      "Process 0.411% Loss = 1.7376\n",
      "Process 0.821% Loss = 1.0874\n",
      "Epoch 8. acc: 0.62433 loss: 1.446\n",
      "Process 0.0% Loss = 1.8149\n",
      "Process 0.411% Loss = 1.6779\n",
      "Process 0.821% Loss = 1.1574\n",
      "Epoch 9. acc: 0.64057 loss: 1.38969\n",
      "Process 0.0% Loss = 1.6576\n",
      "Process 0.411% Loss = 1.9186\n",
      "Process 0.821% Loss = 1.0963\n",
      "Epoch 10. acc: 0.65353 loss: 1.32853\n",
      "Process 0.0% Loss = 1.8927\n",
      "Process 0.411% Loss = 1.8889\n",
      "Process 0.821% Loss = 1.0764\n",
      "Epoch 11. acc: 0.66547 loss: 1.28312\n",
      "Process 0.0% Loss = 1.9627\n",
      "Process 0.411% Loss = 2.1551\n",
      "Process 0.821% Loss = 1.0836\n",
      "Epoch 12. acc: 0.67143 loss: 1.24545\n",
      "Process 0.0% Loss = 1.9361\n",
      "Process 0.411% Loss = 1.9245\n",
      "Process 0.821% Loss = 1.1199\n",
      "Epoch 13. acc: 0.68594 loss: 1.2032\n",
      "Process 0.0% Loss = 1.6051\n",
      "Process 0.411% Loss = 1.7842\n",
      "Process 0.821% Loss = 1.1478\n",
      "Epoch 14. acc: 0.69113 loss: 1.1774\n",
      "Process 0.0% Loss = 1.544\n",
      "Process 0.411% Loss = 1.6842\n",
      "Process 0.821% Loss = 1.2088\n",
      "Epoch 15. acc: 0.69678 loss: 1.13656\n",
      "Process 0.0% Loss = 1.3685\n",
      "Process 0.411% Loss = 1.748\n",
      "Process 0.821% Loss = 1.0718\n",
      "Epoch 16. acc: 0.71071 loss: 1.09906\n",
      "Process 0.0% Loss = 1.9657\n",
      "Process 0.411% Loss = 1.5475\n",
      "Process 0.821% Loss = 1.2018\n",
      "Epoch 17. acc: 0.71763 loss: 1.07787\n",
      "Process 0.0% Loss = 1.2509\n",
      "Process 0.411% Loss = 1.6725\n",
      "Process 0.821% Loss = 0.9228\n",
      "Epoch 18. acc: 0.72047 loss: 1.06096\n",
      "Process 0.0% Loss = 1.5262\n",
      "Process 0.411% Loss = 1.5373\n",
      "Process 0.821% Loss = 1.0156\n",
      "Epoch 19. acc: 0.72553 loss: 1.02909\n",
      "Process 0.0% Loss = 1.4624\n",
      "Process 0.411% Loss = 1.8493\n",
      "Process 0.821% Loss = 1.0752\n",
      "Epoch 20. acc: 0.73131 loss: 1.01501\n",
      "Process 0.0% Loss = 1.3645\n",
      "Process 0.411% Loss = 1.4004\n",
      "Process 0.821% Loss = 1.1285\n",
      "Epoch 21. acc: 0.73355 loss: 1.00735\n",
      "Process 0.0% Loss = 1.15\n",
      "Process 0.411% Loss = 1.4379\n",
      "Process 0.821% Loss = 0.8112\n",
      "Epoch 22. acc: 0.74459 loss: 0.96714\n",
      "Process 0.0% Loss = 1.2734\n",
      "Process 0.411% Loss = 1.5316\n",
      "Process 0.821% Loss = 0.9601\n",
      "Epoch 23. acc: 0.74041 loss: 0.97437\n",
      "Process 0.0% Loss = 1.33\n",
      "Process 0.411% Loss = 1.7538\n",
      "Process 0.821% Loss = 0.8915\n",
      "Epoch 24. acc: 0.74806 loss: 0.9396\n",
      "Process 0.0% Loss = 1.3521\n",
      "Process 0.411% Loss = 1.8622\n",
      "Process 0.821% Loss = 0.7214\n",
      "Epoch 25. acc: 0.75145 loss: 0.92806\n",
      "Process 0.0% Loss = 1.2393\n",
      "Process 0.411% Loss = 1.7243\n",
      "Process 0.821% Loss = 0.9574\n",
      "Epoch 26. acc: 0.75415 loss: 0.91967\n",
      "Process 0.0% Loss = 1.3415\n",
      "Process 0.411% Loss = 1.4254\n",
      "Process 0.821% Loss = 0.8585\n",
      "Epoch 27. acc: 0.75935 loss: 0.89604\n",
      "Process 0.0% Loss = 1.5605\n",
      "Process 0.411% Loss = 1.3177\n",
      "Process 0.821% Loss = 1.2295\n",
      "Epoch 28. acc: 0.76352 loss: 0.89032\n",
      "Process 0.0% Loss = 1.2596\n",
      "Process 0.411% Loss = 1.3646\n",
      "Process 0.821% Loss = 0.768\n",
      "Epoch 29. acc: 0.76313 loss: 0.87709\n",
      "Process 0.0% Loss = 1.3745\n",
      "Process 0.411% Loss = 1.604\n",
      "Process 0.821% Loss = 0.8313\n",
      "Epoch 30. acc: 0.76647 loss: 0.87237\n",
      "Process 0.0% Loss = 1.5507\n",
      "Process 0.411% Loss = 1.2887\n",
      "Process 0.821% Loss = 0.8859\n",
      "Epoch 31. acc: 0.76731 loss: 0.8695\n",
      "Process 0.0% Loss = 1.0967\n",
      "Process 0.411% Loss = 1.085\n",
      "Process 0.821% Loss = 0.7314\n",
      "Epoch 32. acc: 0.77084 loss: 0.84542\n",
      "Process 0.0% Loss = 1.233\n",
      "Process 0.411% Loss = 1.0279\n",
      "Process 0.821% Loss = 1.0591\n",
      "Epoch 33. acc: 0.77456 loss: 0.83457\n",
      "Process 0.0% Loss = 1.5546\n",
      "Process 0.411% Loss = 1.4919\n",
      "Process 0.821% Loss = 0.6182\n",
      "Epoch 34. acc: 0.77745 loss: 0.83347\n",
      "Process 0.0% Loss = 1.3389\n",
      "Process 0.411% Loss = 1.5932\n",
      "Process 0.821% Loss = 0.5566\n",
      "Epoch 35. acc: 0.77584 loss: 0.8319\n",
      "Process 0.0% Loss = 1.3166\n",
      "Process 0.411% Loss = 1.4064\n",
      "Process 0.821% Loss = 0.8626\n",
      "Epoch 36. acc: 0.77706 loss: 0.83012\n",
      "Process 0.0% Loss = 1.459\n",
      "Process 0.411% Loss = 1.6142\n",
      "Process 0.821% Loss = 0.6826\n",
      "Epoch 37. acc: 0.77847 loss: 0.81739\n",
      "Process 0.0% Loss = 1.4625\n",
      "Process 0.411% Loss = 1.6506\n",
      "Process 0.821% Loss = 0.7794\n",
      "Epoch 38. acc: 0.78322 loss: 0.79859\n",
      "Process 0.0% Loss = 1.4497\n",
      "Process 0.411% Loss = 1.2677\n",
      "Process 0.821% Loss = 0.6637\n",
      "Epoch 39. acc: 0.78893 loss: 0.78629\n"
     ]
    }
   ],
   "source": [
    "train_hist, valid_hist = train(model, epochs=40, optimizer=optimizer, loss_func=loss_function, train_loader=train_dl, valid_loader=valid_dl) # valid_dl"
   ]
  },
  {
   "cell_type": "code",
   "execution_count": 146,
   "metadata": {},
   "outputs": [
    {
     "data": {
      "image/png": "[encoded data removed]",
      "text/plain": [
       "<Figure size 1008x360 with 2 Axes>"
      ]
     },
     "metadata": {
      "needs_background": "light"
     },
     "output_type": "display_data"
    }
   ],
   "source": [
    "fig, ax = plt.subplots(nrows=1, ncols=2, figsize=(14, 5))\n",
    "ax[0].plot(train_hist[0], color='green', label='train data', )\n",
    "ax[0].plot(valid_hist[0], color='blue', label='valid. data')\n",
    "ax[0].legend()\n",
    "ax[0].set_title('Accuracy history')\n",
    "\n",
    "ax[1].plot(train_hist[1], color='green', label='train data')\n",
    "ax[1].plot(valid_hist[1], color='blue', label='valid. data')\n",
    "ax[1].legend()\n",
    "ax[1].set_title('Loss history')\n",
    "\n",
    "plt.show()"
   ]
  },
  {
   "cell_type": "markdown",
   "metadata": {},
   "source": [
    "the error on the validation set stopped decreasing after the 15-20 training epoch\n",
    "\n",
    "<b>Try decrease learning rate and batch size</b>"
   ]
  },
  {
   "cell_type": "code",
   "execution_count": 147,
   "metadata": {},
   "outputs": [],
   "source": [
    "# Change learning rate\n",
    "optimizer = torch.optim.Adam(model.parameters(), lr=2e-4)\n",
    "# Change batch size\n",
    "train_dl = DataLoader(train_ds, batch_size=16, pin_memory=False)\n",
    "valid_dl = DataLoader(valid_ds, batch_size=1, pin_memory=False)"
   ]
  },
  {
   "cell_type": "code",
   "execution_count": 148,
   "metadata": {},
   "outputs": [
    {
     "name": "stderr",
     "output_type": "stream",
     "text": [
      "<ipython-input-139-2d60a02e26f4>:21: UserWarning: Implicit dimension choice for softmax has been deprecated. Change the call to include dim=X as an argument.\n",
      "  acc = accuracy(F.softmax(preds), yb).item()\n"
     ]
    },
    {
     "name": "stdout",
     "output_type": "stream",
     "text": [
      "Process 0.0% Loss = 1.1732\n",
      "Process 0.205% Loss = 1.0274\n",
      "Process 0.411% Loss = 1.1286\n",
      "Process 0.616% Loss = 0.3552\n",
      "Process 0.821% Loss = 0.7272\n",
      "Epoch 0. acc: 0.81794 loss: 0.67287\n",
      "Process 0.0% Loss = 1.5634\n",
      "Process 0.205% Loss = 1.0927\n",
      "Process 0.411% Loss = 1.4162\n",
      "Process 0.616% Loss = 0.4589\n",
      "Process 0.821% Loss = 0.781\n",
      "Epoch 1. acc: 0.82596 loss: 0.63781\n",
      "Process 0.0% Loss = 1.1421\n",
      "Process 0.205% Loss = 1.0297\n",
      "Process 0.411% Loss = 1.2647\n",
      "Process 0.616% Loss = 0.3088\n",
      "Process 0.821% Loss = 1.12\n",
      "Epoch 2. acc: 0.82982 loss: 0.62216\n",
      "Process 0.0% Loss = 1.2855\n",
      "Process 0.205% Loss = 1.0065\n",
      "Process 0.411% Loss = 1.1996\n",
      "Process 0.616% Loss = 0.227\n",
      "Process 0.821% Loss = 0.5651\n",
      "Epoch 3. acc: 0.8381 loss: 0.60141\n",
      "Process 0.0% Loss = 1.3689\n",
      "Process 0.205% Loss = 0.8891\n",
      "Process 0.411% Loss = 0.9089\n",
      "Process 0.616% Loss = 0.3044\n",
      "Process 0.821% Loss = 0.9498\n",
      "Epoch 4. acc: 0.83393 loss: 0.5944\n",
      "Process 0.0% Loss = 1.1933\n",
      "Process 0.205% Loss = 0.9882\n",
      "Process 0.411% Loss = 0.7915\n",
      "Process 0.616% Loss = 0.386\n",
      "Process 0.821% Loss = 0.8861\n",
      "Epoch 5. acc: 0.83867 loss: 0.58527\n",
      "Process 0.0% Loss = 0.9663\n",
      "Process 0.205% Loss = 0.8412\n",
      "Process 0.411% Loss = 1.0767\n",
      "Process 0.616% Loss = 0.339\n",
      "Process 0.821% Loss = 1.1269\n",
      "Epoch 6. acc: 0.8415 loss: 0.58192\n",
      "Process 0.0% Loss = 0.7383\n",
      "Process 0.205% Loss = 0.8955\n",
      "Process 0.411% Loss = 0.8188\n",
      "Process 0.616% Loss = 0.2507\n",
      "Process 0.821% Loss = 0.8574\n",
      "Epoch 7. acc: 0.83989 loss: 0.57448\n",
      "Process 0.0% Loss = 0.9665\n",
      "Process 0.205% Loss = 1.0148\n",
      "Process 0.411% Loss = 1.0948\n",
      "Process 0.616% Loss = 0.4978\n",
      "Process 0.821% Loss = 0.5852\n",
      "Epoch 8. acc: 0.84342 loss: 0.56885\n",
      "Process 0.0% Loss = 1.1988\n",
      "Process 0.205% Loss = 0.5712\n",
      "Process 0.411% Loss = 0.8991\n",
      "Process 0.616% Loss = 0.5364\n",
      "Process 0.821% Loss = 0.7064\n",
      "Epoch 9. acc: 0.84746 loss: 0.55944\n",
      "Process 0.0% Loss = 1.1046\n",
      "Process 0.205% Loss = 0.6405\n",
      "Process 0.411% Loss = 1.0456\n",
      "Process 0.616% Loss = 0.1972\n",
      "Process 0.821% Loss = 0.8448\n",
      "Epoch 10. acc: 0.84837 loss: 0.55589\n",
      "Process 0.0% Loss = 1.0467\n",
      "Process 0.205% Loss = 0.6598\n",
      "Process 0.411% Loss = 0.816\n",
      "Process 0.616% Loss = 0.3244\n",
      "Process 0.821% Loss = 0.594\n",
      "Epoch 11. acc: 0.85107 loss: 0.54781\n",
      "Process 0.0% Loss = 0.8027\n",
      "Process 0.205% Loss = 1.0073\n",
      "Process 0.411% Loss = 0.9128\n",
      "Process 0.616% Loss = 0.215\n",
      "Process 0.821% Loss = 0.4589\n",
      "Epoch 12. acc: 0.84951 loss: 0.54997\n",
      "Process 0.0% Loss = 1.062\n",
      "Process 0.205% Loss = 0.9699\n",
      "Process 0.411% Loss = 0.9626\n",
      "Process 0.616% Loss = 0.1828\n",
      "Process 0.821% Loss = 1.0444\n",
      "Epoch 13. acc: 0.84856 loss: 0.54204\n",
      "Process 0.0% Loss = 0.7988\n",
      "Process 0.205% Loss = 0.873\n",
      "Process 0.411% Loss = 0.9402\n",
      "Process 0.616% Loss = 0.1241\n",
      "Process 0.821% Loss = 0.4696\n",
      "Epoch 14. acc: 0.85169 loss: 0.53579\n",
      "Process 0.0% Loss = 1.0486\n",
      "Process 0.205% Loss = 0.891\n",
      "Process 0.411% Loss = 1.1017\n",
      "Process 0.616% Loss = 0.2464\n",
      "Process 0.821% Loss = 0.4147\n",
      "Epoch 15. acc: 0.85619 loss: 0.52793\n",
      "Process 0.0% Loss = 0.8131\n",
      "Process 0.205% Loss = 0.7091\n",
      "Process 0.411% Loss = 0.6609\n",
      "Process 0.616% Loss = 0.1769\n",
      "Process 0.821% Loss = 0.4363\n",
      "Epoch 16. acc: 0.85394 loss: 0.52417\n",
      "Process 0.0% Loss = 0.7613\n",
      "Process 0.205% Loss = 0.8183\n",
      "Process 0.411% Loss = 1.127\n",
      "Process 0.616% Loss = 0.1804\n",
      "Process 0.821% Loss = 0.6651\n",
      "Epoch 17. acc: 0.85202 loss: 0.52895\n",
      "Process 0.0% Loss = 0.7769\n",
      "Process 0.205% Loss = 0.9158\n",
      "Process 0.411% Loss = 0.3765\n",
      "Process 0.616% Loss = 0.1844\n",
      "Process 0.821% Loss = 0.6801\n",
      "Epoch 18. acc: 0.85741 loss: 0.50719\n",
      "Process 0.0% Loss = 0.9365\n",
      "Process 0.205% Loss = 1.19\n",
      "Process 0.411% Loss = 1.0073\n",
      "Process 0.616% Loss = 0.3462\n",
      "Process 0.821% Loss = 0.5874\n",
      "Epoch 19. acc: 0.85779 loss: 0.51617\n"
     ]
    }
   ],
   "source": [
    "train_hist, valid_hist = train(model, epochs=20, optimizer=optimizer, loss_func=loss_function, train_loader=train_dl, valid_loader=valid_dl) # valid_dl"
   ]
  },
  {
   "cell_type": "code",
   "execution_count": 149,
   "metadata": {},
   "outputs": [
    {
     "data": {
      "image/png": "[encoded data removed]",
      "text/plain": [
       "<Figure size 1008x360 with 2 Axes>"
      ]
     },
     "metadata": {
      "needs_background": "light"
     },
     "output_type": "display_data"
    }
   ],
   "source": [
    "fig, ax = plt.subplots(nrows=1, ncols=2, figsize=(14, 5))\n",
    "ax[0].plot(train_hist[0], color='green', label='train data', )\n",
    "ax[0].plot(valid_hist[0], color='blue', label='valid. data')\n",
    "ax[0].legend()\n",
    "ax[0].set_title('Accuracy history')\n",
    "\n",
    "ax[1].plot(train_hist[1], color='green', label='train data')\n",
    "ax[1].plot(valid_hist[1], color='blue', label='valid. data')\n",
    "ax[1].legend()\n",
    "ax[1].set_title('Loss history')\n",
    "\n",
    "plt.show()"
   ]
  },
  {
   "cell_type": "markdown",
   "metadata": {},
   "source": [
    "model has a little improvements. Training loss decreases but validation isn't"
   ]
  },
  {
   "cell_type": "code",
   "execution_count": 150,
   "metadata": {},
   "outputs": [],
   "source": [
    "torch.save(model, 'cnn_model.pt')"
   ]
  },
  {
   "cell_type": "markdown",
   "metadata": {},
   "source": [
    "## Make some tests"
   ]
  },
  {
   "cell_type": "code",
   "execution_count": 153,
   "metadata": {},
   "outputs": [],
   "source": [
    "def validate_model(model, data_loader, num_samples=100, cuda_model=True):\n",
    "    predictions, real_classes = [], []\n",
    "    # get X and Y from data_loader\n",
    "    for sample_index, (xb, yb) in enumerate(data_loader):\n",
    "        with torch.no_grad():\n",
    "            # pass X to model\n",
    "            if cuda_model:\n",
    "                preds = model(xb.cuda())\n",
    "            else:\n",
    "                preds = model(xb)\n",
    "        preds = F.softmax(preds)  # pass results to activate function\n",
    "        predictions.append(torch.argmax(preds.cpu()).item())  # get value with max probability\n",
    "        real_classes.append(yb.item())\n",
    "        if sample_index == num_samples:\n",
    "            break\n",
    "            \n",
    "    predictions = np.array(predictions, dtype=int)\n",
    "    real_classes = np.array(real_classes, dtype=int)\n",
    "    print(\"accuracy is\", np.mean((predictions==real_classes).astype(float)) )  # calc. accuracy\n",
    "    return predictions, real_classes"
   ]
  },
  {
   "cell_type": "code",
   "execution_count": 154,
   "metadata": {},
   "outputs": [
    {
     "name": "stderr",
     "output_type": "stream",
     "text": [
      "<ipython-input-153-d7fba7efd817>:11: UserWarning: Implicit dimension choice for softmax has been deprecated. Change the call to include dim=X as an argument.\n",
      "  preds = F.softmax(preds)  # pass results to activate function\n"
     ]
    },
    {
     "name": "stdout",
     "output_type": "stream",
     "text": [
      "accuracy is 0.7524950099800399\n"
     ]
    }
   ],
   "source": [
    "valid_preds, valid_real = validate_model(model, valid_dl, num_samples=500)"
   ]
  },
  {
   "cell_type": "code",
   "execution_count": 161,
   "metadata": {},
   "outputs": [],
   "source": [
    "reversed_classes = dict((int(val), key) for key, val in classes.items())\n",
    "# reversed_classes"
   ]
  },
  {
   "cell_type": "code",
   "execution_count": 164,
   "metadata": {},
   "outputs": [
    {
     "name": "stdout",
     "output_type": "stream",
     "text": [
      "predicted           LEXUS real PEUGEOT\n",
      "predicted          TOYOTA real TOYOTA\n",
      "predicted         PEUGEOT real PEUGEOT\n",
      "predicted          TOYOTA real TOYOTA\n",
      "predicted      VOLKSWAGEN real BMW\n",
      "predicted         PORSCHE real PORSCHE\n",
      "predicted           TESLA real PEUGEOT\n",
      "predicted       LANDROVER real LANDROVER\n",
      "predicted          TOYOTA real TOYOTA\n",
      "predicted            LADA real LADA\n",
      "predicted            OPEL real OPEL\n",
      "predicted          SUBARU real KIA\n",
      "predicted         FERRARI real FERRARI\n",
      "predicted       ALFAROMEO real ALFAROMEO\n",
      "predicted          NISSAN real NISSAN\n",
      "predicted          NISSAN real NISSAN\n",
      "predicted       LANDROVER real LANDROVER\n",
      "predicted          TOYOTA real TOYOTA\n",
      "predicted         HYUNDAI real HYUNDAI\n",
      "predicted           LEXUS real LEXUS\n"
     ]
    }
   ],
   "source": [
    "for i in range(20):\n",
    "    sample_index = np.random.randint(0, 500)\n",
    "    print(\"predicted\", '{:>15}'.format(reversed_classes[valid_preds[sample_index]].upper()),\n",
    "          \"real\", reversed_classes[valid_real[sample_index]].upper())"
   ]
  }
 ],
 "metadata": {
  "kernelspec": {
   "display_name": "Python [conda env:torch_env]",
   "language": "python",
   "name": "conda-env-torch_env-py"
  },
  "language_info": {
   "codemirror_mode": {
    "name": "ipython",
    "version": 3
   },
   "file_extension": ".py",
   "mimetype": "text/x-python",
   "name": "python",
   "nbconvert_exporter": "python",
   "pygments_lexer": "ipython3",
   "version": "3.8.5"
  }
 },
 "nbformat": 4,
 "nbformat_minor": 4
}
