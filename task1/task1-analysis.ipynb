{
 "cells": [
  {
   "cell_type": "code",
   "execution_count": 1,
   "metadata": {},
   "outputs": [],
   "source": [
    "import pandas as pd\n",
    "import matplotlib.pyplot as plt\n",
    "import seaborn as sns\n",
    "import numpy as np\n",
    "\n",
    "%matplotlib inline"
   ]
  },
  {
   "cell_type": "markdown",
   "metadata": {},
   "source": [
    "## Загрузка данных"
   ]
  },
  {
   "cell_type": "code",
   "execution_count": 3,
   "metadata": {},
   "outputs": [],
   "source": [
    "df_art = pd.read_csv('data\\\\art.csv', sep=';')  # Справочник товаров\n",
    "df_sales = pd.read_csv('data\\\\sales.csv', sep=';')  # Данные по продажам за ноябрь 2015 г. в детализации День – Магазин – Товар - Сумма_Продаж\n",
    "df_store = pd.read_csv('data\\\\store.csv', sep=';')  # Справочник магазинов\n",
    "df_txn = pd.read_csv('data\\\\txn.csv', sep=';')  # Данные по продажам за период [2015-10-01, 2015-11-29] в детализации День – Магазин – Товар – Чек - Сумма_Продаж"
   ]
  },
  {
   "cell_type": "markdown",
   "metadata": {},
   "source": [
    "## Предобработка данных"
   ]
  },
  {
   "cell_type": "markdown",
   "metadata": {},
   "source": [
    "#### art.csv description"
   ]
  },
  {
   "cell_type": "code",
   "execution_count": 4,
   "metadata": {},
   "outputs": [
    {
     "data": {
      "text/html": [
       "<div>\n",
       "<style scoped>\n",
       "    .dataframe tbody tr th:only-of-type {\n",
       "        vertical-align: middle;\n",
       "    }\n",
       "\n",
       "    .dataframe tbody tr th {\n",
       "        vertical-align: top;\n",
       "    }\n",
       "\n",
       "    .dataframe thead th {\n",
       "        text-align: right;\n",
       "    }\n",
       "</style>\n",
       "<table border=\"1\" class=\"dataframe\">\n",
       "  <thead>\n",
       "    <tr style=\"text-align: right;\">\n",
       "      <th></th>\n",
       "      <th>ART</th>\n",
       "      <th>NAME</th>\n",
       "      <th>GRP</th>\n",
       "    </tr>\n",
       "  </thead>\n",
       "  <tbody>\n",
       "    <tr>\n",
       "      <th>0</th>\n",
       "      <td>16363612</td>\n",
       "      <td>Гуашь 6 цветов_1</td>\n",
       "      <td>Канцелярия</td>\n",
       "    </tr>\n",
       "    <tr>\n",
       "      <th>1</th>\n",
       "      <td>191210</td>\n",
       "      <td>Гвоздика_1</td>\n",
       "      <td>Др. пряности</td>\n",
       "    </tr>\n",
       "    <tr>\n",
       "      <th>2</th>\n",
       "      <td>16338445</td>\n",
       "      <td>Размораживатель_1</td>\n",
       "      <td>Автотовары</td>\n",
       "    </tr>\n",
       "  </tbody>\n",
       "</table>\n",
       "</div>"
      ],
      "text/plain": [
       "        ART               NAME           GRP\n",
       "0  16363612   Гуашь 6 цветов_1    Канцелярия\n",
       "1    191210         Гвоздика_1  Др. пряности\n",
       "2  16338445  Размораживатель_1    Автотовары"
      ]
     },
     "execution_count": 4,
     "metadata": {},
     "output_type": "execute_result"
    }
   ],
   "source": [
    "df_art.head(3)\n",
    "# АРТИКУЛ, НАЗВАНИЕ_ТОВАРА, ГРУППА ТОВАРА"
   ]
  },
  {
   "cell_type": "code",
   "execution_count": 5,
   "metadata": {},
   "outputs": [
    {
     "name": "stdout",
     "output_type": "stream",
     "text": [
      "<class 'pandas.core.frame.DataFrame'>\n",
      "RangeIndex: 8434 entries, 0 to 8433\n",
      "Data columns (total 3 columns):\n",
      " #   Column  Non-Null Count  Dtype \n",
      "---  ------  --------------  ----- \n",
      " 0   ART     8434 non-null   int64 \n",
      " 1   NAME    8434 non-null   object\n",
      " 2   GRP     8434 non-null   object\n",
      "dtypes: int64(1), object(2)\n",
      "memory usage: 197.8+ KB\n"
     ]
    }
   ],
   "source": [
    "# check NONE/empty data\n",
    "df_art.info()"
   ]
  },
  {
   "cell_type": "code",
   "execution_count": 7,
   "metadata": {},
   "outputs": [],
   "source": [
    "# convert ART column to string type\n",
    "df_art['ART'] = df_art['ART'].astype(str)"
   ]
  },
  {
   "cell_type": "markdown",
   "metadata": {},
   "source": [
    "#### sales.csv"
   ]
  },
  {
   "cell_type": "code",
   "execution_count": 8,
   "metadata": {},
   "outputs": [
    {
     "data": {
      "text/html": [
       "<div>\n",
       "<style scoped>\n",
       "    .dataframe tbody tr th:only-of-type {\n",
       "        vertical-align: middle;\n",
       "    }\n",
       "\n",
       "    .dataframe tbody tr th {\n",
       "        vertical-align: top;\n",
       "    }\n",
       "\n",
       "    .dataframe thead th {\n",
       "        text-align: right;\n",
       "    }\n",
       "</style>\n",
       "<table border=\"1\" class=\"dataframe\">\n",
       "  <thead>\n",
       "    <tr style=\"text-align: right;\">\n",
       "      <th></th>\n",
       "      <th>DAY</th>\n",
       "      <th>STORE</th>\n",
       "      <th>ART</th>\n",
       "      <th>SALES</th>\n",
       "    </tr>\n",
       "  </thead>\n",
       "  <tbody>\n",
       "    <tr>\n",
       "      <th>0</th>\n",
       "      <td>2015-11-08</td>\n",
       "      <td>17474</td>\n",
       "      <td>16521444</td>\n",
       "      <td>133,20000</td>\n",
       "    </tr>\n",
       "    <tr>\n",
       "      <th>1</th>\n",
       "      <td>2015-11-14</td>\n",
       "      <td>1530</td>\n",
       "      <td>343535</td>\n",
       "      <td>162,00000</td>\n",
       "    </tr>\n",
       "    <tr>\n",
       "      <th>2</th>\n",
       "      <td>2015-11-23</td>\n",
       "      <td>22691</td>\n",
       "      <td>222223</td>\n",
       "      <td>162,00000</td>\n",
       "    </tr>\n",
       "  </tbody>\n",
       "</table>\n",
       "</div>"
      ],
      "text/plain": [
       "          DAY  STORE       ART      SALES\n",
       "0  2015-11-08  17474  16521444  133,20000\n",
       "1  2015-11-14   1530    343535  162,00000\n",
       "2  2015-11-23  22691    222223  162,00000"
      ]
     },
     "execution_count": 8,
     "metadata": {},
     "output_type": "execute_result"
    }
   ],
   "source": [
    "df_sales.head(3)\n",
    "# День – Магазин – Товар - Сумма_Продаж. (10^4)"
   ]
  },
  {
   "cell_type": "code",
   "execution_count": 9,
   "metadata": {},
   "outputs": [
    {
     "name": "stdout",
     "output_type": "stream",
     "text": [
      "<class 'pandas.core.frame.DataFrame'>\n",
      "RangeIndex: 873912 entries, 0 to 873911\n",
      "Data columns (total 4 columns):\n",
      " #   Column  Non-Null Count   Dtype \n",
      "---  ------  --------------   ----- \n",
      " 0   DAY     873912 non-null  object\n",
      " 1   STORE   873912 non-null  int64 \n",
      " 2   ART     873912 non-null  int64 \n",
      " 3   SALES   873912 non-null  object\n",
      "dtypes: int64(2), object(2)\n",
      "memory usage: 26.7+ MB\n"
     ]
    }
   ],
   "source": [
    "df_sales.info()"
   ]
  },
  {
   "cell_type": "code",
   "execution_count": 10,
   "metadata": {},
   "outputs": [],
   "source": [
    "# converting column types\n",
    "df_sales['DAY'] = pd.to_datetime(df_sales['DAY'], format='%Y-%m-%d')\n",
    "for col in ['STORE', 'ART']:\n",
    "    df_sales[col] = df_sales[col].astype(str)\n",
    "df_sales['SALES'] = df_sales['SALES'].apply(lambda x: x.replace(',', '.')).astype(float)"
   ]
  },
  {
   "cell_type": "code",
   "execution_count": 11,
   "metadata": {},
   "outputs": [
    {
     "name": "stdout",
     "output_type": "stream",
     "text": [
      "<class 'pandas.core.frame.DataFrame'>\n",
      "RangeIndex: 873912 entries, 0 to 873911\n",
      "Data columns (total 4 columns):\n",
      " #   Column  Non-Null Count   Dtype         \n",
      "---  ------  --------------   -----         \n",
      " 0   DAY     873912 non-null  datetime64[ns]\n",
      " 1   STORE   873912 non-null  object        \n",
      " 2   ART     873912 non-null  object        \n",
      " 3   SALES   873912 non-null  float64       \n",
      "dtypes: datetime64[ns](1), float64(1), object(2)\n",
      "memory usage: 26.7+ MB\n"
     ]
    }
   ],
   "source": [
    "df_sales.info()"
   ]
  },
  {
   "cell_type": "markdown",
   "metadata": {},
   "source": [
    "#### store.csv"
   ]
  },
  {
   "cell_type": "code",
   "execution_count": 12,
   "metadata": {},
   "outputs": [
    {
     "data": {
      "text/html": [
       "<div>\n",
       "<style scoped>\n",
       "    .dataframe tbody tr th:only-of-type {\n",
       "        vertical-align: middle;\n",
       "    }\n",
       "\n",
       "    .dataframe tbody tr th {\n",
       "        vertical-align: top;\n",
       "    }\n",
       "\n",
       "    .dataframe thead th {\n",
       "        text-align: right;\n",
       "    }\n",
       "</style>\n",
       "<table border=\"1\" class=\"dataframe\">\n",
       "  <thead>\n",
       "    <tr style=\"text-align: right;\">\n",
       "      <th></th>\n",
       "      <th>STORE</th>\n",
       "      <th>OPEN_DATE</th>\n",
       "      <th>SQUARE_TRADE</th>\n",
       "      <th>SQUARE_TOTAL</th>\n",
       "    </tr>\n",
       "  </thead>\n",
       "  <tbody>\n",
       "    <tr>\n",
       "      <th>0</th>\n",
       "      <td>1094</td>\n",
       "      <td>2004-09-18</td>\n",
       "      <td>520,00000</td>\n",
       "      <td>700,00000</td>\n",
       "    </tr>\n",
       "    <tr>\n",
       "      <th>1</th>\n",
       "      <td>19009</td>\n",
       "      <td>2013-04-29</td>\n",
       "      <td>396,00000</td>\n",
       "      <td>580,00000</td>\n",
       "    </tr>\n",
       "    <tr>\n",
       "      <th>2</th>\n",
       "      <td>21761</td>\n",
       "      <td>2013-07-02</td>\n",
       "      <td>418,00000</td>\n",
       "      <td>551,00000</td>\n",
       "    </tr>\n",
       "  </tbody>\n",
       "</table>\n",
       "</div>"
      ],
      "text/plain": [
       "   STORE   OPEN_DATE SQUARE_TRADE SQUARE_TOTAL\n",
       "0   1094  2004-09-18    520,00000    700,00000\n",
       "1  19009  2013-04-29    396,00000    580,00000\n",
       "2  21761  2013-07-02    418,00000    551,00000"
      ]
     },
     "execution_count": 12,
     "metadata": {},
     "output_type": "execute_result"
    }
   ],
   "source": [
    "df_store.head(3)\n",
    "# МАГАЗИН, ДАТА_ОТКРЫТИЯ, TRADE_?, TOTAL_? (10^4 после запятой)"
   ]
  },
  {
   "cell_type": "code",
   "execution_count": 11,
   "metadata": {},
   "outputs": [
    {
     "name": "stdout",
     "output_type": "stream",
     "text": [
      "<class 'pandas.core.frame.DataFrame'>\n",
      "RangeIndex: 30 entries, 0 to 29\n",
      "Data columns (total 4 columns):\n",
      " #   Column        Non-Null Count  Dtype \n",
      "---  ------        --------------  ----- \n",
      " 0   STORE         30 non-null     int64 \n",
      " 1   OPEN_DATE     30 non-null     object\n",
      " 2   SQUARE_TRADE  30 non-null     object\n",
      " 3   SQUARE_TOTAL  30 non-null     object\n",
      "dtypes: int64(1), object(3)\n",
      "memory usage: 1.1+ KB\n"
     ]
    }
   ],
   "source": [
    "df_store.info()"
   ]
  },
  {
   "cell_type": "code",
   "execution_count": 13,
   "metadata": {},
   "outputs": [],
   "source": [
    "# Convert data types for columns\n",
    "df_store['STORE'] = df_store['STORE'].astype(str) \n",
    "df_store['OPEN_DATE'] = pd.to_datetime(df_store['OPEN_DATE'], format='%Y-%m-%d')\n",
    "for col in ['SQUARE_TRADE', 'SQUARE_TOTAL']:\n",
    "    df_store[col] = df_store[col].apply(lambda x: x.replace(',', '.')).astype(float)\n",
    "    "
   ]
  },
  {
   "cell_type": "code",
   "execution_count": 14,
   "metadata": {},
   "outputs": [
    {
     "data": {
      "text/html": [
       "<div>\n",
       "<style scoped>\n",
       "    .dataframe tbody tr th:only-of-type {\n",
       "        vertical-align: middle;\n",
       "    }\n",
       "\n",
       "    .dataframe tbody tr th {\n",
       "        vertical-align: top;\n",
       "    }\n",
       "\n",
       "    .dataframe thead th {\n",
       "        text-align: right;\n",
       "    }\n",
       "</style>\n",
       "<table border=\"1\" class=\"dataframe\">\n",
       "  <thead>\n",
       "    <tr style=\"text-align: right;\">\n",
       "      <th></th>\n",
       "      <th>STORE</th>\n",
       "      <th>OPEN_DATE</th>\n",
       "      <th>SQUARE_TRADE</th>\n",
       "      <th>SQUARE_TOTAL</th>\n",
       "    </tr>\n",
       "  </thead>\n",
       "  <tbody>\n",
       "    <tr>\n",
       "      <th>0</th>\n",
       "      <td>1094</td>\n",
       "      <td>2004-09-18</td>\n",
       "      <td>520.0</td>\n",
       "      <td>700.0</td>\n",
       "    </tr>\n",
       "    <tr>\n",
       "      <th>1</th>\n",
       "      <td>19009</td>\n",
       "      <td>2013-04-29</td>\n",
       "      <td>396.0</td>\n",
       "      <td>580.0</td>\n",
       "    </tr>\n",
       "  </tbody>\n",
       "</table>\n",
       "</div>"
      ],
      "text/plain": [
       "   STORE  OPEN_DATE  SQUARE_TRADE  SQUARE_TOTAL\n",
       "0   1094 2004-09-18         520.0         700.0\n",
       "1  19009 2013-04-29         396.0         580.0"
      ]
     },
     "execution_count": 14,
     "metadata": {},
     "output_type": "execute_result"
    }
   ],
   "source": [
    "df_store.head(2)"
   ]
  },
  {
   "cell_type": "markdown",
   "metadata": {},
   "source": [
    "### txn.csv"
   ]
  },
  {
   "cell_type": "code",
   "execution_count": 15,
   "metadata": {},
   "outputs": [
    {
     "data": {
      "text/html": [
       "<div>\n",
       "<style scoped>\n",
       "    .dataframe tbody tr th:only-of-type {\n",
       "        vertical-align: middle;\n",
       "    }\n",
       "\n",
       "    .dataframe tbody tr th {\n",
       "        vertical-align: top;\n",
       "    }\n",
       "\n",
       "    .dataframe thead th {\n",
       "        text-align: right;\n",
       "    }\n",
       "</style>\n",
       "<table border=\"1\" class=\"dataframe\">\n",
       "  <thead>\n",
       "    <tr style=\"text-align: right;\">\n",
       "      <th></th>\n",
       "      <th>DAY</th>\n",
       "      <th>STORE</th>\n",
       "      <th>ART</th>\n",
       "      <th>TXN</th>\n",
       "      <th>TIME</th>\n",
       "      <th>SALES</th>\n",
       "    </tr>\n",
       "  </thead>\n",
       "  <tbody>\n",
       "    <tr>\n",
       "      <th>0</th>\n",
       "      <td>2015-11-05</td>\n",
       "      <td>22691</td>\n",
       "      <td>16548710</td>\n",
       "      <td>5877969776</td>\n",
       "      <td>17:23:57</td>\n",
       "      <td>117,00000</td>\n",
       "    </tr>\n",
       "    <tr>\n",
       "      <th>1</th>\n",
       "      <td>2015-10-24</td>\n",
       "      <td>20581</td>\n",
       "      <td>261204</td>\n",
       "      <td>5767364168</td>\n",
       "      <td>19:57:19</td>\n",
       "      <td>140,17000</td>\n",
       "    </tr>\n",
       "    <tr>\n",
       "      <th>2</th>\n",
       "      <td>2015-11-05</td>\n",
       "      <td>1574</td>\n",
       "      <td>16405210</td>\n",
       "      <td>5876151937</td>\n",
       "      <td>15:31:35</td>\n",
       "      <td>26,90000</td>\n",
       "    </tr>\n",
       "    <tr>\n",
       "      <th>3</th>\n",
       "      <td>2015-10-29</td>\n",
       "      <td>1602</td>\n",
       "      <td>192539</td>\n",
       "      <td>5810625759</td>\n",
       "      <td>15:54:34</td>\n",
       "      <td>53,80000</td>\n",
       "    </tr>\n",
       "    <tr>\n",
       "      <th>4</th>\n",
       "      <td>2015-10-04</td>\n",
       "      <td>1579</td>\n",
       "      <td>16501864</td>\n",
       "      <td>5575346025</td>\n",
       "      <td>16:27:40</td>\n",
       "      <td>36,30000</td>\n",
       "    </tr>\n",
       "  </tbody>\n",
       "</table>\n",
       "</div>"
      ],
      "text/plain": [
       "          DAY  STORE       ART         TXN      TIME      SALES\n",
       "0  2015-11-05  22691  16548710  5877969776  17:23:57  117,00000\n",
       "1  2015-10-24  20581    261204  5767364168  19:57:19  140,17000\n",
       "2  2015-11-05   1574  16405210  5876151937  15:31:35   26,90000\n",
       "3  2015-10-29   1602    192539  5810625759  15:54:34   53,80000\n",
       "4  2015-10-04   1579  16501864  5575346025  16:27:40   36,30000"
      ]
     },
     "execution_count": 15,
     "metadata": {},
     "output_type": "execute_result"
    }
   ],
   "source": [
    "df_txn.head()\n",
    "# дата, магазин, товар, чек, время, сумма продажи (в чем выражено?. 10^4 после запятой)"
   ]
  },
  {
   "cell_type": "code",
   "execution_count": 16,
   "metadata": {},
   "outputs": [
    {
     "name": "stdout",
     "output_type": "stream",
     "text": [
      "<class 'pandas.core.frame.DataFrame'>\n",
      "RangeIndex: 4146318 entries, 0 to 4146317\n",
      "Data columns (total 6 columns):\n",
      " #   Column  Dtype \n",
      "---  ------  ----- \n",
      " 0   DAY     object\n",
      " 1   STORE   int64 \n",
      " 2   ART     int64 \n",
      " 3   TXN     int64 \n",
      " 4   TIME    object\n",
      " 5   SALES   object\n",
      "dtypes: int64(3), object(3)\n",
      "memory usage: 189.8+ MB\n"
     ]
    }
   ],
   "source": [
    "df_txn.info()"
   ]
  },
  {
   "cell_type": "code",
   "execution_count": 17,
   "metadata": {},
   "outputs": [
    {
     "data": {
      "text/plain": [
       "0"
      ]
     },
     "execution_count": 17,
     "metadata": {},
     "output_type": "execute_result"
    }
   ],
   "source": [
    "# info didn't show NULL data. check it\n",
    "df_txn.isnull().values.sum()"
   ]
  },
  {
   "cell_type": "code",
   "execution_count": 18,
   "metadata": {},
   "outputs": [],
   "source": [
    "# convert column types for txn dataframe\n",
    "# convert dates\n",
    "df_txn['DAY'] = pd.to_datetime(df_txn['DAY'], format='%Y-%m-%d')\n",
    "# df_txn['DAY'] = df_txn['DAY'].dt.strftime('%Y-%m-%d')\n",
    "# convert integers to string\n",
    "for col in ['STORE', 'ART', 'TXN']:\n",
    "    df_txn[col] = df_txn[col].astype(str)\n",
    "    \n",
    "# convert to datetime and apply new format\n",
    "df_txn['TIME'] = pd.to_datetime(df_txn['TIME'], format='%H:%M:%S', ).dt.strftime('%H:%M:%S')\n",
    "df_txn['SALES'] = df_txn['SALES'].apply(lambda x: x.replace(',', '.')).astype(float)"
   ]
  },
  {
   "cell_type": "code",
   "execution_count": 19,
   "metadata": {},
   "outputs": [
    {
     "data": {
      "text/html": [
       "<div>\n",
       "<style scoped>\n",
       "    .dataframe tbody tr th:only-of-type {\n",
       "        vertical-align: middle;\n",
       "    }\n",
       "\n",
       "    .dataframe tbody tr th {\n",
       "        vertical-align: top;\n",
       "    }\n",
       "\n",
       "    .dataframe thead th {\n",
       "        text-align: right;\n",
       "    }\n",
       "</style>\n",
       "<table border=\"1\" class=\"dataframe\">\n",
       "  <thead>\n",
       "    <tr style=\"text-align: right;\">\n",
       "      <th></th>\n",
       "      <th>DAY</th>\n",
       "      <th>STORE</th>\n",
       "      <th>ART</th>\n",
       "      <th>TXN</th>\n",
       "      <th>TIME</th>\n",
       "      <th>SALES</th>\n",
       "    </tr>\n",
       "  </thead>\n",
       "  <tbody>\n",
       "    <tr>\n",
       "      <th>0</th>\n",
       "      <td>2015-11-05</td>\n",
       "      <td>22691</td>\n",
       "      <td>16548710</td>\n",
       "      <td>5877969776</td>\n",
       "      <td>17:23:57</td>\n",
       "      <td>117.00</td>\n",
       "    </tr>\n",
       "    <tr>\n",
       "      <th>1</th>\n",
       "      <td>2015-10-24</td>\n",
       "      <td>20581</td>\n",
       "      <td>261204</td>\n",
       "      <td>5767364168</td>\n",
       "      <td>19:57:19</td>\n",
       "      <td>140.17</td>\n",
       "    </tr>\n",
       "    <tr>\n",
       "      <th>2</th>\n",
       "      <td>2015-11-05</td>\n",
       "      <td>1574</td>\n",
       "      <td>16405210</td>\n",
       "      <td>5876151937</td>\n",
       "      <td>15:31:35</td>\n",
       "      <td>26.90</td>\n",
       "    </tr>\n",
       "  </tbody>\n",
       "</table>\n",
       "</div>"
      ],
      "text/plain": [
       "         DAY  STORE       ART         TXN      TIME   SALES\n",
       "0 2015-11-05  22691  16548710  5877969776  17:23:57  117.00\n",
       "1 2015-10-24  20581    261204  5767364168  19:57:19  140.17\n",
       "2 2015-11-05   1574  16405210  5876151937  15:31:35   26.90"
      ]
     },
     "execution_count": 19,
     "metadata": {},
     "output_type": "execute_result"
    }
   ],
   "source": [
    "df_txn.head(3)"
   ]
  },
  {
   "cell_type": "markdown",
   "metadata": {},
   "source": [
    "## Задание 1\n",
    "Рассчитать основные показатели: \n",
    "1. Средний чек магазина\n",
    "2. ср. кол-во чеков на 1 магазин. в день\n",
    "3. ср. продажи на 1 магазин. в день (детализация до товара/группы не нужна).\n",
    "\n",
    "Сравнить эти показатели в октябре и ноябре между магазинами. Визуально представить результат."
   ]
  },
  {
   "cell_type": "markdown",
   "metadata": {},
   "source": [
    "#### 1) Средний чек магазина"
   ]
  },
  {
   "cell_type": "code",
   "execution_count": 20,
   "metadata": {},
   "outputs": [
    {
     "data": {
      "text/html": [
       "<div>\n",
       "<style scoped>\n",
       "    .dataframe tbody tr th:only-of-type {\n",
       "        vertical-align: middle;\n",
       "    }\n",
       "\n",
       "    .dataframe tbody tr th {\n",
       "        vertical-align: top;\n",
       "    }\n",
       "\n",
       "    .dataframe thead th {\n",
       "        text-align: right;\n",
       "    }\n",
       "</style>\n",
       "<table border=\"1\" class=\"dataframe\">\n",
       "  <thead>\n",
       "    <tr style=\"text-align: right;\">\n",
       "      <th></th>\n",
       "      <th>DAY</th>\n",
       "      <th>STORE</th>\n",
       "      <th>ART</th>\n",
       "      <th>TXN</th>\n",
       "      <th>TIME</th>\n",
       "      <th>SALES</th>\n",
       "    </tr>\n",
       "  </thead>\n",
       "  <tbody>\n",
       "    <tr>\n",
       "      <th>1269309</th>\n",
       "      <td>2015-10-01</td>\n",
       "      <td>1082</td>\n",
       "      <td>191452</td>\n",
       "      <td>5541359000</td>\n",
       "      <td>09:30:15</td>\n",
       "      <td>4.0000</td>\n",
       "    </tr>\n",
       "    <tr>\n",
       "      <th>1269093</th>\n",
       "      <td>2015-10-01</td>\n",
       "      <td>1082</td>\n",
       "      <td>80439</td>\n",
       "      <td>5541359000</td>\n",
       "      <td>09:30:29</td>\n",
       "      <td>15.6000</td>\n",
       "    </tr>\n",
       "    <tr>\n",
       "      <th>1269525</th>\n",
       "      <td>2015-10-01</td>\n",
       "      <td>1082</td>\n",
       "      <td>15317962</td>\n",
       "      <td>5541359000</td>\n",
       "      <td>09:30:17</td>\n",
       "      <td>103.0000</td>\n",
       "    </tr>\n",
       "    <tr>\n",
       "      <th>3500199</th>\n",
       "      <td>2015-10-01</td>\n",
       "      <td>999</td>\n",
       "      <td>16355302</td>\n",
       "      <td>5541364219</td>\n",
       "      <td>09:36:37</td>\n",
       "      <td>99.9000</td>\n",
       "    </tr>\n",
       "    <tr>\n",
       "      <th>3256102</th>\n",
       "      <td>2015-10-01</td>\n",
       "      <td>956</td>\n",
       "      <td>16542062</td>\n",
       "      <td>5541365363</td>\n",
       "      <td>09:15:37</td>\n",
       "      <td>199.1000</td>\n",
       "    </tr>\n",
       "    <tr>\n",
       "      <th>...</th>\n",
       "      <td>...</td>\n",
       "      <td>...</td>\n",
       "      <td>...</td>\n",
       "      <td>...</td>\n",
       "      <td>...</td>\n",
       "      <td>...</td>\n",
       "    </tr>\n",
       "    <tr>\n",
       "      <th>8916</th>\n",
       "      <td>2015-11-29</td>\n",
       "      <td>27220</td>\n",
       "      <td>177925</td>\n",
       "      <td>6111390826</td>\n",
       "      <td>21:55:14</td>\n",
       "      <td>39.9000</td>\n",
       "    </tr>\n",
       "    <tr>\n",
       "      <th>1506516</th>\n",
       "      <td>2015-11-29</td>\n",
       "      <td>1574</td>\n",
       "      <td>20490</td>\n",
       "      <td>6111391689</td>\n",
       "      <td>21:57:14</td>\n",
       "      <td>63.9316</td>\n",
       "    </tr>\n",
       "    <tr>\n",
       "      <th>2464909</th>\n",
       "      <td>2015-11-29</td>\n",
       "      <td>22691</td>\n",
       "      <td>11847</td>\n",
       "      <td>6111393025</td>\n",
       "      <td>21:57:16</td>\n",
       "      <td>68.6694</td>\n",
       "    </tr>\n",
       "    <tr>\n",
       "      <th>2465341</th>\n",
       "      <td>2015-11-29</td>\n",
       "      <td>22691</td>\n",
       "      <td>261204</td>\n",
       "      <td>6111393025</td>\n",
       "      <td>21:57:26</td>\n",
       "      <td>155.5364</td>\n",
       "    </tr>\n",
       "    <tr>\n",
       "      <th>2465125</th>\n",
       "      <td>2015-11-29</td>\n",
       "      <td>22691</td>\n",
       "      <td>15325748</td>\n",
       "      <td>6111393025</td>\n",
       "      <td>21:57:18</td>\n",
       "      <td>89.9000</td>\n",
       "    </tr>\n",
       "  </tbody>\n",
       "</table>\n",
       "<p>3217917 rows × 6 columns</p>\n",
       "</div>"
      ],
      "text/plain": [
       "               DAY  STORE       ART         TXN      TIME     SALES\n",
       "1269309 2015-10-01   1082    191452  5541359000  09:30:15    4.0000\n",
       "1269093 2015-10-01   1082     80439  5541359000  09:30:29   15.6000\n",
       "1269525 2015-10-01   1082  15317962  5541359000  09:30:17  103.0000\n",
       "3500199 2015-10-01    999  16355302  5541364219  09:36:37   99.9000\n",
       "3256102 2015-10-01    956  16542062  5541365363  09:15:37  199.1000\n",
       "...            ...    ...       ...         ...       ...       ...\n",
       "8916    2015-11-29  27220    177925  6111390826  21:55:14   39.9000\n",
       "1506516 2015-11-29   1574     20490  6111391689  21:57:14   63.9316\n",
       "2464909 2015-11-29  22691     11847  6111393025  21:57:16   68.6694\n",
       "2465341 2015-11-29  22691    261204  6111393025  21:57:26  155.5364\n",
       "2465125 2015-11-29  22691  15325748  6111393025  21:57:18   89.9000\n",
       "\n",
       "[3217917 rows x 6 columns]"
      ]
     },
     "execution_count": 20,
     "metadata": {},
     "output_type": "execute_result"
    }
   ],
   "source": [
    "df_txn[df_txn['TXN'].duplicated()].sort_values(by=['TXN'])\n",
    "# TXN's - can be non unique in table.  "
   ]
  },
  {
   "cell_type": "code",
   "execution_count": 21,
   "metadata": {},
   "outputs": [],
   "source": [
    "# get sum of each TXN for each STORE \n",
    "store_txn = df_txn.groupby(by=['STORE', 'TXN'])['SALES'].sum()"
   ]
  },
  {
   "cell_type": "code",
   "execution_count": 22,
   "metadata": {},
   "outputs": [
    {
     "data": {
      "text/plain": [
       "STORE\n",
       "999      340.826488\n",
       "1534     332.876687\n",
       "961      332.171182\n",
       "1579     327.715790\n",
       "17474    327.559132\n",
       "27220    324.851026\n",
       "1544     312.736939\n",
       "25039    308.484691\n",
       "1596     306.879057\n",
       "20581    304.288819\n",
       "1094     296.253462\n",
       "22691    291.782762\n",
       "958      291.312404\n",
       "29245    281.493705\n",
       "1122     280.469520\n",
       "1609     278.023796\n",
       "974      272.622307\n",
       "21761    270.188012\n",
       "980      266.984191\n",
       "1053     262.225977\n",
       "17096    262.057726\n",
       "24605    259.611172\n",
       "1594     258.398284\n",
       "19009    255.868882\n",
       "956      250.181991\n",
       "1612     249.777229\n",
       "1530     246.590228\n",
       "1602     244.985973\n",
       "1082     240.002862\n",
       "1574     180.071200\n",
       "Name: SALES, dtype: float64"
      ]
     },
     "execution_count": 22,
     "metadata": {},
     "output_type": "execute_result"
    }
   ],
   "source": [
    "# Mean TXN (SALES) for each store. (Not for each day)\n",
    "store_txn_mean = store_txn.groupby(by=['STORE']).mean().sort_values(ascending=False)\n",
    "store_txn_mean"
   ]
  },
  {
   "cell_type": "code",
   "execution_count": 23,
   "metadata": {},
   "outputs": [
    {
     "data": {
      "text/plain": [
       "<matplotlib.axes._subplots.AxesSubplot at 0x2000fa167b8>"
      ]
     },
     "execution_count": 23,
     "metadata": {},
     "output_type": "execute_result"
    },
    {
     "data": {
      "image/png": "[encoded data removed]",
      "text/plain": [
       "<Figure size 432x288 with 1 Axes>"
      ]
     },
     "metadata": {
      "needs_background": "light"
     },
     "output_type": "display_data"
    }
   ],
   "source": [
    "store_txn_mean.plot(kind='bar', title='Средний чек магазина')"
   ]
  },
  {
   "cell_type": "markdown",
   "metadata": {},
   "source": [
    "#### 2) ср. кол-во чеков на 1 магазин. в день"
   ]
  },
  {
   "cell_type": "code",
   "execution_count": 25,
   "metadata": {},
   "outputs": [
    {
     "data": {
      "text/plain": [
       "STORE  DAY       \n",
       "1053   2015-10-01    497\n",
       "       2015-10-02    517\n",
       "       2015-10-03    436\n",
       "Name: TXN, dtype: int64"
      ]
     },
     "execution_count": 25,
     "metadata": {},
     "output_type": "execute_result"
    }
   ],
   "source": [
    "# get count of TXN's for each store and day\n",
    "store_txns = df_txn.groupby(by=['STORE', 'DAY'])['TXN'].nunique()\n",
    "store_txns.head(3)"
   ]
  },
  {
   "cell_type": "code",
   "execution_count": 27,
   "metadata": {},
   "outputs": [
    {
     "data": {
      "text/plain": [
       "STORE\n",
       "17474    924\n",
       "21761    822\n",
       "1082     746\n",
       "17096    695\n",
       "19009    676\n",
       "1094     674\n",
       "1579     657\n",
       "1612     605\n",
       "999      573\n",
       "1534     571\n",
       "956      560\n",
       "25039    558\n",
       "1594     537\n",
       "22691    533\n",
       "1609     512\n",
       "1596     493\n",
       "1053     492\n",
       "958      475\n",
       "1544     462\n",
       "961      427\n",
       "1602     427\n",
       "27220    422\n",
       "1574     394\n",
       "24605    385\n",
       "20581    379\n",
       "1122     373\n",
       "29245    359\n",
       "974      264\n",
       "980      244\n",
       "1530     221\n",
       "Name: TXN, dtype: int32"
      ]
     },
     "execution_count": 27,
     "metadata": {},
     "output_type": "execute_result"
    }
   ],
   "source": [
    "# get mean count of TXN's for each STORE\n",
    "store_txns_mean = store_txns.groupby(by=['STORE']).mean().sort_values(ascending=False)\n",
    "store_txns_mean.astype(int)"
   ]
  },
  {
   "cell_type": "code",
   "execution_count": 28,
   "metadata": {},
   "outputs": [
    {
     "data": {
      "text/plain": [
       "<matplotlib.axes._subplots.AxesSubplot at 0x20020185128>"
      ]
     },
     "execution_count": 28,
     "metadata": {},
     "output_type": "execute_result"
    },
    {
     "data": {
      "image/png": "[encoded data removed]",
      "text/plain": [
       "<Figure size 432x288 with 1 Axes>"
      ]
     },
     "metadata": {
      "needs_background": "light"
     },
     "output_type": "display_data"
    }
   ],
   "source": [
    "store_txns_mean.plot(kind='bar', title='Среднее кол-во чеков в день')"
   ]
  },
  {
   "cell_type": "markdown",
   "metadata": {},
   "source": [
    "#### 3) ср. продажи на 1 магазин. в день (детализация до товара/группы не нужна)"
   ]
  },
  {
   "cell_type": "code",
   "execution_count": 41,
   "metadata": {},
   "outputs": [
    {
     "data": {
      "text/plain": [
       "STORE  DAY       \n",
       "1053   2015-10-01    123427.9594\n",
       "       2015-10-02    124246.8303\n",
       "       2015-10-03    110410.3021\n",
       "       2015-10-04    116777.4891\n",
       "       2015-10-05    136899.0184\n",
       "Name: SALES, dtype: float64"
      ]
     },
     "execution_count": 41,
     "metadata": {},
     "output_type": "execute_result"
    }
   ],
   "source": [
    "# find SALES for each STORE per DAY\n",
    "store_day_sales = df_txn.groupby(by=['STORE', 'DAY'])['SALES'].sum()\n",
    "store_day_sales.head()"
   ]
  },
  {
   "cell_type": "code",
   "execution_count": 42,
   "metadata": {},
   "outputs": [
    {
     "data": {
      "text/plain": [
       "STORE\n",
       "17474    302779.283275\n",
       "21761    222301.690140\n",
       "1579     215347.507243\n",
       "1094     199862.460505\n",
       "999      195583.280112\n",
       "1534     190155.807552\n",
       "17096    182156.325575\n",
       "1082     179250.137685\n",
       "19009    173155.001582\n",
       "25039    172206.437297\n",
       "22691    155661.240610\n",
       "1596     151465.273347\n",
       "1612     151181.831087\n",
       "1544     144515.739408\n",
       "1609     142547.433715\n",
       "961      142108.368042\n",
       "956      140252.024170\n",
       "1594     138906.304327\n",
       "958      138460.785603\n",
       "27220    137352.428058\n",
       "1053     129124.441567\n",
       "20581    115345.748140\n",
       "1122     104802.110623\n",
       "1602     104735.586643\n",
       "29245    101103.155797\n",
       "24605    100080.106913\n",
       "974       72063.163267\n",
       "1574      70957.056503\n",
       "980       65188.639872\n",
       "1530      54578.637137\n",
       "Name: SALES, dtype: float64"
      ]
     },
     "execution_count": 42,
     "metadata": {},
     "output_type": "execute_result"
    }
   ],
   "source": [
    "store_day_sales_mean = store_day_sales.groupby(by=['STORE']).mean().sort_values(ascending=False)\n",
    "store_day_sales_mean"
   ]
  },
  {
   "cell_type": "code",
   "execution_count": 43,
   "metadata": {},
   "outputs": [
    {
     "data": {
      "text/plain": [
       "<matplotlib.axes._subplots.AxesSubplot at 0x200202804a8>"
      ]
     },
     "execution_count": 43,
     "metadata": {},
     "output_type": "execute_result"
    },
    {
     "data": {
      "image/png": "[encoded data removed]",
      "text/plain": [
       "<Figure size 432x288 with 1 Axes>"
      ]
     },
     "metadata": {
      "needs_background": "light"
     },
     "output_type": "display_data"
    }
   ],
   "source": [
    "store_day_sales_mean.plot(kind='bar', title='Средние продажи (SALES) в день')"
   ]
  },
  {
   "cell_type": "markdown",
   "metadata": {},
   "source": [
    "## 2. Сравнить эти показатели в октябре и ноябре между магазинами. \n",
    "### Визуально представить результат."
   ]
  },
  {
   "cell_type": "code",
   "execution_count": 44,
   "metadata": {},
   "outputs": [],
   "source": [
    "def plot_two_bars(series_left, series_right, left_label, right_label, title=\"\"):\n",
    "    # sort by indexes both Series\n",
    "    series_left = series_left.sort_index()\n",
    "    series_right = series_right.sort_index()\n",
    "    if not np.all(series_left.index == series_right.index):\n",
    "        print('Indexes are not equal!')\n",
    "    tmp_df = pd.DataFrame(data={'left': series_left.values, 'right': series_right.values}, index=series_left.index.values)\n",
    "    tmp_df = tmp_df.sort_values(by=['left', 'right'], ascending=False)\n",
    "    \n",
    "    # create axes to plot both series\n",
    "    fig, ax = plt.subplots(1, 1, figsize=(14, 7))\n",
    "    bar_width = 0.8\n",
    "    ticks = np.arange(tmp_df.shape[0]) * 2.2  # X positions for bars \n",
    "\n",
    "    ax.bar(ticks+bar_width, height=tmp_df['right'], width=bar_width, label=right_label)  # plot bar shifted to right\n",
    "    ax.bar(ticks, height=tmp_df['left'], width=bar_width, label=left_label)  # plot bar normal position\n",
    "\n",
    "    ax.set_xticks(ticks+bar_width/2)  # set middle position between two bars\n",
    "    ax.set_xticklabels(tmp_df.index.values, rotation=45)  # set labels for two bars\n",
    "    ax.set_title(title)\n",
    "    ax.legend()\n",
    "    plt.show()"
   ]
  },
  {
   "cell_type": "code",
   "execution_count": 45,
   "metadata": {},
   "outputs": [],
   "source": [
    "oct_txns = df_txn[df_txn['DAY'].dt.month == 10]  # get all data for october\n",
    "nov_txns = df_txn[df_txn['DAY'].dt.month == 11]  # get all data for november"
   ]
  },
  {
   "cell_type": "markdown",
   "metadata": {},
   "source": [
    "### 2.1 Средний чек магазина"
   ]
  },
  {
   "cell_type": "code",
   "execution_count": 46,
   "metadata": {},
   "outputs": [],
   "source": [
    "oct_mean_txn = oct_txns.groupby(by=['STORE', 'TXN'])['SALES'].sum().groupby(by=['STORE']).mean()\n",
    "nov_mean_txn = nov_txns.groupby(by=['STORE', 'TXN'])['SALES'].sum().groupby(by=['STORE']).mean()"
   ]
  },
  {
   "cell_type": "code",
   "execution_count": 47,
   "metadata": {},
   "outputs": [
    {
     "data": {
      "image/png": "[encoded data removed]",
      "text/plain": [
       "<Figure size 1008x504 with 1 Axes>"
      ]
     },
     "metadata": {
      "needs_background": "light"
     },
     "output_type": "display_data"
    }
   ],
   "source": [
    "plot_two_bars(oct_mean_txn, nov_mean_txn, \n",
    "              left_label='October sales', \n",
    "              right_label=\"November sales\", \n",
    "              title='Средний чек магазина')"
   ]
  },
  {
   "cell_type": "markdown",
   "metadata": {},
   "source": [
    "### 2.2 ср. кол-во чеков на 1 магазин. в день"
   ]
  },
  {
   "cell_type": "code",
   "execution_count": 48,
   "metadata": {},
   "outputs": [],
   "source": [
    "oct_txns_count = oct_txns.groupby(by=['STORE', 'DAY'])['TXN'].count().groupby(by=['STORE']).mean().sort_values(ascending=False)\n",
    "nov_txns_count = nov_txns.groupby(by=['STORE', 'DAY'])['TXN'].count().groupby(by=['STORE']).mean().sort_values(ascending=False)"
   ]
  },
  {
   "cell_type": "code",
   "execution_count": 49,
   "metadata": {},
   "outputs": [
    {
     "data": {
      "image/png": "[encoded data removed]",
      "text/plain": [
       "<Figure size 1008x504 with 1 Axes>"
      ]
     },
     "metadata": {
      "needs_background": "light"
     },
     "output_type": "display_data"
    }
   ],
   "source": [
    "plot_two_bars(oct_txns_count, nov_txns_count, \n",
    "              left_label='October sales', \n",
    "              right_label=\"November sales\", \n",
    "              title='Средний чек магазина')"
   ]
  },
  {
   "cell_type": "markdown",
   "metadata": {},
   "source": [
    "### 2.3 Средние продажи на 1 магазин в день "
   ]
  },
  {
   "cell_type": "code",
   "execution_count": 50,
   "metadata": {},
   "outputs": [],
   "source": [
    "oct_store_day_sales_mean = oct_txns.groupby(by=['STORE', 'DAY'])['SALES'].sum().groupby(by=['STORE']).mean().sort_values(ascending=False)\n",
    "nov_store_day_sales_mean = nov_txns.groupby(by=['STORE', 'DAY'])['SALES'].sum().groupby(by=['STORE']).mean().sort_values(ascending=False)"
   ]
  },
  {
   "cell_type": "code",
   "execution_count": 51,
   "metadata": {},
   "outputs": [
    {
     "data": {
      "image/png": "[encoded data removed]",
      "text/plain": [
       "<Figure size 1008x504 with 1 Axes>"
      ]
     },
     "metadata": {
      "needs_background": "light"
     },
     "output_type": "display_data"
    }
   ],
   "source": [
    "plot_two_bars(oct_store_day_sales_mean, nov_store_day_sales_mean, \n",
    "              left_label='October sales', \n",
    "              right_label=\"November sales\", \n",
    "              title='Средние продажи на 1 магазин в день')"
   ]
  }
 ],
 "metadata": {
  "kernelspec": {
   "display_name": "Python [conda env:root] *",
   "language": "python",
   "name": "conda-root-py"
  },
  "language_info": {
   "codemirror_mode": {
    "name": "ipython",
    "version": 3
   },
   "file_extension": ".py",
   "mimetype": "text/x-python",
   "name": "python",
   "nbconvert_exporter": "python",
   "pygments_lexer": "ipython3",
   "version": "3.7.3"
  }
 },
 "nbformat": 4,
 "nbformat_minor": 4
}
